{
 "cells": [
  {
   "cell_type": "code",
   "execution_count": null,
   "id": "7ccc9b2d",
   "metadata": {},
   "outputs": [
    {
     "name": "stdout",
     "output_type": "stream",
     "text": [
      "[40, 50, 60, 0, 0, 0]\n"
     ]
    }
   ],
   "source": [
    "def shiftLeft(List,k):\n",
    "    newList= []\n",
    "    for i in range (k):\n",
    "        newList.append(List[i+k])\n",
    "    \n",
    "    for i in range(k):\n",
    "        newList.append(0)\n",
    "\n",
    "    return newList\n",
    "\n",
    "source = [10,20,30,40,50,60]\n",
    "L1 = shiftLeft(source,3)\n",
    "print(L1)\n",
    "\n",
    "\n"
   ]
  },
  {
   "cell_type": "code",
   "execution_count": 19,
   "id": "9bfefd16",
   "metadata": {},
   "outputs": [
    {
     "name": "stdout",
     "output_type": "stream",
     "text": [
      "[20, 30, 40, 50, 10]\n"
     ]
    }
   ],
   "source": [
    "\n",
    "def rotateLeft(List,k):\n",
    "    newList=[]\n",
    "    for i in range(k):\n",
    "     newList.append(List[i+k])\n",
    "\n",
    "    for i in range(k):\n",
    "      newList.append(List[i])\n",
    "\n",
    "\n",
    "    return newList\n",
    "\n",
    "List1=[10,20,30,40,50,60]\n",
    "L1=rotateLeft(List1,3)\n",
    "print(L1)"
   ]
  },
  {
   "cell_type": "code",
   "execution_count": 20,
   "id": "b449428a",
   "metadata": {},
   "outputs": [
    {
     "name": "stdout",
     "output_type": "stream",
     "text": [
      "[10, 20, 40, 50, 0, 0, 0]\n"
     ]
    }
   ],
   "source": [
    "\n",
    "\n",
    "source = [10, 20, 30, 40, 50, 0, 0]\n",
    "remove(source, 5, 2)\n",
    "\n",
    "def remove(List,size,idx):\n",
    "  newList=[]\n",
    "\n",
    "  for i in range(size):\n",
    "    if i!=idx: newList.append(List[i])\n",
    "  newList.append(0)\n",
    "  return newList\n",
    "\n",
    "List1=[10,20,30,40,50,60]\n",
    "L1=remove(List1,len(List1),3)\n",
    "print(L1)\n"
   ]
  },
  {
   "cell_type": "code",
   "execution_count": 21,
   "id": "4074c7c4",
   "metadata": {},
   "outputs": [
    {
     "name": "stdout",
     "output_type": "stream",
     "text": [
      "[10, 30, 50, 0, 0, 0, 0, 0, 0]\n"
     ]
    }
   ],
   "source": [
    "def removeAll(List,size,element):\n",
    " newList=List\n",
    " for i in range(size):\n",
    "  if newList[i]==element:\n",
    "   newList.pop(i)\n",
    "   newList.append(0)\n",
    " return newList\n",
    "List1=[10,2,30,2,50,2,0,2,0]\n",
    "L1=removeAll(List1,len(List1),2)\n",
    "print(L1)"
   ]
  },
  {
   "cell_type": "code",
   "execution_count": null,
   "id": "ae485e1f",
   "metadata": {},
   "outputs": [],
   "source": []
  }
 ],
 "metadata": {
  "kernelspec": {
   "display_name": "Python 3 (ipykernel)",
   "language": "python",
   "name": "python3"
  },
  "language_info": {
   "codemirror_mode": {
    "name": "ipython",
    "version": 3
   },
   "file_extension": ".py",
   "mimetype": "text/x-python",
   "name": "python",
   "nbconvert_exporter": "python",
   "pygments_lexer": "ipython3",
   "version": "3.11.5"
  }
 },
 "nbformat": 4,
 "nbformat_minor": 5
}
